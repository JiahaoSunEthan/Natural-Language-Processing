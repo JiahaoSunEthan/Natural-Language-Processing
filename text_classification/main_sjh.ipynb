{
 "cells": [
  {
   "cell_type": "markdown",
   "metadata": {},
   "source": [
    "### Read training, dev and unlabeled test data"
   ]
  },
  {
   "cell_type": "markdown",
   "metadata": {},
   "source": [
    "The following provides a starting code (Python 3) of how to read the labeled training and dev cipher text, and unlabeled test cipher text, into lists."
   ]
  },
  {
   "cell_type": "code",
   "execution_count": 1,
   "metadata": {},
   "outputs": [],
   "source": [
    "train, dev, test = [], [], []"
   ]
  },
  {
   "cell_type": "code",
   "execution_count": 2,
   "metadata": {},
   "outputs": [
    {
     "name": "stdout",
     "output_type": "stream",
     "text": [
      "16220\n",
      "[[0, 'lkêcê yoúc cêêö y#êjl lw mówám Újám j Úêê# ütlk Úol lkêú z#ê ctöé8ú ówl xoóóú éê#xw#öê#c .'], [0, '6êcétlê jolêot8 zc éê#xw#öjóáê , tl zc j #jlkê# 8tcl8êcc jöÚ8ê 6wüó lkê öt668ê wx lkê #wj6 , ükê#ê lkê lkêöjltá t#wótêc j#ê lww wÚ2twoc jó6 lkê cê+oj8 éw8tltác lww cöoy .'], [0, 'tx lktc kw8t6jú öw2tê tc coééwcê6 lw Úê j ytxl , cwöêÚw6ú oóü#jééê6 tl êj#8ú , lwwm wol j88 lkê yww6 cloxx , jó6 8êxl Úêktó6 lkê á#jé ( 8tlê#j88ú ) .']]\n"
     ]
    }
   ],
   "source": [
    "for x in open('./train_enc.tsv', encoding='utf-8'):\n",
    "    x = x.rstrip('\\n\\r').split('\\t')\n",
    "    # x[0] will be the label (0 or 1), and x[1] will be the ciphertext sentence.\n",
    "    x[0] = int(x[0]) \n",
    "    train.append(x)\n",
    "print (len(train))\n",
    "print (train[:3])"
   ]
  },
  {
   "cell_type": "code",
   "execution_count": 3,
   "metadata": {},
   "outputs": [
    {
     "name": "stdout",
     "output_type": "stream",
     "text": [
      "2027\n",
      "[[1, 'ów8jó Ú#j2ê8ú l#êj6c ükê#ê xêü jöê#tájó xt8öc 6j#ê lw 6ê82ê 77 tólw lkê üw#86 wx jöÚt2j8êóáê jó6 jöÚtyotlú <<<'], [0, 'ê2êó öo#ékú zc ê+éê#l áwötá ltötóy jó6 xjöê6 ákj#tcöj áj ózl #êcáoê lktc êxxw#l .'], [1, 'üt88 jcco#ê68ú #jóm jc wóê wx lkê á8ê2ê#êcl , öwcl 6êáêélt2ê8ú jöoctóy áwöê6têc wx lkê úêj# .']]\n"
     ]
    }
   ],
   "source": [
    "for x in open('./dev_enc.tsv', encoding='utf-8'):\n",
    "    x = x.rstrip('\\n\\r').split('\\t')\n",
    "    # x[0] will be the label (0 or 1), and x[1] will be the ciphertext sentence.\n",
    "    x[0] = int(x[0]) \n",
    "    dev.append(x)\n",
    "print (len(dev))\n",
    "print (dev[:3])"
   ]
  },
  {
   "cell_type": "markdown",
   "metadata": {},
   "source": [
    "#### Different from 'train' and 'dev' that are both list of tuples, 'test' will be just a list."
   ]
  },
  {
   "cell_type": "code",
   "execution_count": 4,
   "metadata": {},
   "outputs": [
    {
     "name": "stdout",
     "output_type": "stream",
     "text": [
      "2028\n",
      "['j 6t6jáltá jó6 6o88 6wáoöêólj#ú y8w#txútóy cwxlüj#ê jój#ákú .', 'ówlktóy cltámc , #êj88ú , ê+áêél j 8tóyê#tóy á#êêétóêcc wóê xêê8c x#wö Úêtóy 6#jyyê6 lk#woyk j cj6 , cw#6t6 oót2ê#cê wx yoóc , 6#oyc , j2j#táê jó6 6jöjyê6 6#êjöc .', 'öo#ékú jó6 üt8cwó jáloj88ú öjmê j é#êllú yww6 lêjö <<< Úol lkê é#wvêál co##woó6tóy lkêö tc 6tcl#êcctóy8ú #wlê .']\n"
     ]
    }
   ],
   "source": [
    "for x in open('./test_enc_unlabeled.tsv', encoding='utf-8'):\n",
    "    x = x.rstrip('\\n\\r')\n",
    "    test.append(x)\n",
    "print (len(test))\n",
    "print (test[:3])"
   ]
  },
  {
   "cell_type": "markdown",
   "metadata": {},
   "source": [
    "#### You can split every sentence into lists of words by white spaces."
   ]
  },
  {
   "cell_type": "code",
   "execution_count": 5,
   "metadata": {},
   "outputs": [],
   "source": [
    "train_split = [[x[0], x[1].split(' ')] for x in train]\n",
    "dev_split = [[x[0], x[1].split(' ')] for x in dev]\n",
    "test_split = [[x.split(' ')] for x in test]"
   ]
  },
  {
   "cell_type": "markdown",
   "metadata": {},
   "source": [
    "### Main Code Body"
   ]
  },
  {
   "cell_type": "markdown",
   "metadata": {},
   "source": [
    "You may choose to experiment with different methods using your program. However, you need to embed the training and inference processes at here. We will use your prediction on the unlabeled test data to grade, while checking this part to understand how your method has produced the predictions."
   ]
  },
  {
   "cell_type": "code",
   "execution_count": 6,
   "metadata": {},
   "outputs": [],
   "source": [
    "import pandas as pd\n",
    "import numpy as np\n",
    "from sklearn.linear_model import LogisticRegression\n",
    "from sklearn.feature_extraction.text import TfidfVectorizer\n",
    "\n",
    "import warnings\n",
    "warnings.filterwarnings(\"ignore\")"
   ]
  },
  {
   "cell_type": "code",
   "execution_count": 7,
   "metadata": {},
   "outputs": [
    {
     "data": {
      "text/html": [
       "<div>\n",
       "<style scoped>\n",
       "    .dataframe tbody tr th:only-of-type {\n",
       "        vertical-align: middle;\n",
       "    }\n",
       "\n",
       "    .dataframe tbody tr th {\n",
       "        vertical-align: top;\n",
       "    }\n",
       "\n",
       "    .dataframe thead th {\n",
       "        text-align: right;\n",
       "    }\n",
       "</style>\n",
       "<table border=\"1\" class=\"dataframe\">\n",
       "  <thead>\n",
       "    <tr style=\"text-align: right;\">\n",
       "      <th></th>\n",
       "      <th>label</th>\n",
       "      <th>text</th>\n",
       "    </tr>\n",
       "  </thead>\n",
       "  <tbody>\n",
       "    <tr>\n",
       "      <th>0</th>\n",
       "      <td>0</td>\n",
       "      <td>lkêcê yoúc cêêö y#êjl lw mówám Újám j Úêê# ütl...</td>\n",
       "    </tr>\n",
       "    <tr>\n",
       "      <th>1</th>\n",
       "      <td>0</td>\n",
       "      <td>6êcétlê jolêot8 zc éê#xw#öjóáê , tl zc j #jlkê...</td>\n",
       "    </tr>\n",
       "    <tr>\n",
       "      <th>2</th>\n",
       "      <td>0</td>\n",
       "      <td>tx lktc kw8t6jú öw2tê tc coééwcê6 lw Úê j ytxl...</td>\n",
       "    </tr>\n",
       "    <tr>\n",
       "      <th>3</th>\n",
       "      <td>1</td>\n",
       "      <td>vocl ükêó úwo lktóm lkjl ê2ê#ú éwcctÚ8ê jóy8ê ...</td>\n",
       "    </tr>\n",
       "    <tr>\n",
       "      <th>4</th>\n",
       "      <td>1</td>\n",
       "      <td>yt2ê á#ê6tl lw ê2ê#úwóê x#wö #wÚtócwó 6wüó lw ...</td>\n",
       "    </tr>\n",
       "    <tr>\n",
       "      <th>...</th>\n",
       "      <td>...</td>\n",
       "      <td>...</td>\n",
       "    </tr>\n",
       "    <tr>\n",
       "      <th>16215</th>\n",
       "      <td>1</td>\n",
       "      <td>j8lkwoyk tl 8jámc lkê 6êljt8 wx lkê Úwwm , lkê...</td>\n",
       "    </tr>\n",
       "    <tr>\n",
       "      <th>16216</th>\n",
       "      <td>0</td>\n",
       "      <td>t ájózl #êöêöÚê# lkê 8jcl ltöê t cjü j öw2tê ü...</td>\n",
       "    </tr>\n",
       "    <tr>\n",
       "      <th>16217</th>\n",
       "      <td>1</td>\n",
       "      <td>j #j#tlú jöwóy #êáêól t#jótjó xt8öc 1 tlzc j á...</td>\n",
       "    </tr>\n",
       "    <tr>\n",
       "      <th>16218</th>\n",
       "      <td>0</td>\n",
       "      <td>cákê#xty , ükw kjc kj6 j coááêccxo8 áj#êê# tó ...</td>\n",
       "    </tr>\n",
       "    <tr>\n",
       "      <th>16219</th>\n",
       "      <td>0</td>\n",
       "      <td>oócéêjmjÚ8ê , wx áwo#cê , Új#ê8ú Úêytóc lw 6êc...</td>\n",
       "    </tr>\n",
       "  </tbody>\n",
       "</table>\n",
       "<p>16220 rows × 2 columns</p>\n",
       "</div>"
      ],
      "text/plain": [
       "       label                                               text\n",
       "0          0  lkêcê yoúc cêêö y#êjl lw mówám Újám j Úêê# ütl...\n",
       "1          0  6êcétlê jolêot8 zc éê#xw#öjóáê , tl zc j #jlkê...\n",
       "2          0  tx lktc kw8t6jú öw2tê tc coééwcê6 lw Úê j ytxl...\n",
       "3          1  vocl ükêó úwo lktóm lkjl ê2ê#ú éwcctÚ8ê jóy8ê ...\n",
       "4          1  yt2ê á#ê6tl lw ê2ê#úwóê x#wö #wÚtócwó 6wüó lw ...\n",
       "...      ...                                                ...\n",
       "16215      1  j8lkwoyk tl 8jámc lkê 6êljt8 wx lkê Úwwm , lkê...\n",
       "16216      0  t ájózl #êöêöÚê# lkê 8jcl ltöê t cjü j öw2tê ü...\n",
       "16217      1  j #j#tlú jöwóy #êáêól t#jótjó xt8öc 1 tlzc j á...\n",
       "16218      0  cákê#xty , ükw kjc kj6 j coááêccxo8 áj#êê# tó ...\n",
       "16219      0  oócéêjmjÚ8ê , wx áwo#cê , Új#ê8ú Úêytóc lw 6êc...\n",
       "\n",
       "[16220 rows x 2 columns]"
      ]
     },
     "execution_count": 7,
     "metadata": {},
     "output_type": "execute_result"
    }
   ],
   "source": [
    "train_df = pd.DataFrame(train,columns=['label','text'])\n",
    "train_df"
   ]
  },
  {
   "cell_type": "code",
   "execution_count": 8,
   "metadata": {},
   "outputs": [
    {
     "data": {
      "text/html": [
       "<div>\n",
       "<style scoped>\n",
       "    .dataframe tbody tr th:only-of-type {\n",
       "        vertical-align: middle;\n",
       "    }\n",
       "\n",
       "    .dataframe tbody tr th {\n",
       "        vertical-align: top;\n",
       "    }\n",
       "\n",
       "    .dataframe thead th {\n",
       "        text-align: right;\n",
       "    }\n",
       "</style>\n",
       "<table border=\"1\" class=\"dataframe\">\n",
       "  <thead>\n",
       "    <tr style=\"text-align: right;\">\n",
       "      <th></th>\n",
       "      <th>label</th>\n",
       "      <th>text</th>\n",
       "    </tr>\n",
       "  </thead>\n",
       "  <tbody>\n",
       "    <tr>\n",
       "      <th>0</th>\n",
       "      <td>1</td>\n",
       "      <td>ów8jó Ú#j2ê8ú l#êj6c ükê#ê xêü jöê#tájó xt8öc ...</td>\n",
       "    </tr>\n",
       "    <tr>\n",
       "      <th>1</th>\n",
       "      <td>0</td>\n",
       "      <td>ê2êó öo#ékú zc ê+éê#l áwötá ltötóy jó6 xjöê6 á...</td>\n",
       "    </tr>\n",
       "    <tr>\n",
       "      <th>2</th>\n",
       "      <td>1</td>\n",
       "      <td>üt88 jcco#ê68ú #jóm jc wóê wx lkê á8ê2ê#êcl , ...</td>\n",
       "    </tr>\n",
       "    <tr>\n",
       "      <th>3</th>\n",
       "      <td>1</td>\n",
       "      <td>tl kjc j ájxxêtójlê6 , c8wééú Ú#t88tjóáê , céj...</td>\n",
       "    </tr>\n",
       "    <tr>\n",
       "      <th>4</th>\n",
       "      <td>1</td>\n",
       "      <td>lww öoák wx clw#úlê88tóy öw2êc jüjú x#wö cw8wó...</td>\n",
       "    </tr>\n",
       "    <tr>\n",
       "      <th>...</th>\n",
       "      <td>...</td>\n",
       "      <td>...</td>\n",
       "    </tr>\n",
       "    <tr>\n",
       "      <th>2022</th>\n",
       "      <td>1</td>\n",
       "      <td>co#ê , t kjlê6 öúcê8x tó lkê öw#ótóy . Úol lkê...</td>\n",
       "    </tr>\n",
       "    <tr>\n",
       "      <th>2023</th>\n",
       "      <td>0</td>\n",
       "      <td>ê2êó tx Ú#tlóêú céêj#c tc #êj88ú áolê , kê# öw...</td>\n",
       "    </tr>\n",
       "    <tr>\n",
       "      <th>2024</th>\n",
       "      <td>1</td>\n",
       "      <td>j l#toöék wx j#l 6t#êáltwó w2ê# ój##jlt2ê , Úo...</td>\n",
       "    </tr>\n",
       "    <tr>\n",
       "      <th>2025</th>\n",
       "      <td>0</td>\n",
       "      <td>ükjl cwo#ê6 öê wó lkê cjólj á8jocê * üjc lkjl ...</td>\n",
       "    </tr>\n",
       "    <tr>\n",
       "      <th>2026</th>\n",
       "      <td>0</td>\n",
       "      <td>lw cjú lkjl lktc 2jét6 2êktá8ê tc 6wüó#tykl 6w...</td>\n",
       "    </tr>\n",
       "  </tbody>\n",
       "</table>\n",
       "<p>2027 rows × 2 columns</p>\n",
       "</div>"
      ],
      "text/plain": [
       "      label                                               text\n",
       "0         1  ów8jó Ú#j2ê8ú l#êj6c ükê#ê xêü jöê#tájó xt8öc ...\n",
       "1         0  ê2êó öo#ékú zc ê+éê#l áwötá ltötóy jó6 xjöê6 á...\n",
       "2         1  üt88 jcco#ê68ú #jóm jc wóê wx lkê á8ê2ê#êcl , ...\n",
       "3         1  tl kjc j ájxxêtójlê6 , c8wééú Ú#t88tjóáê , céj...\n",
       "4         1  lww öoák wx clw#úlê88tóy öw2êc jüjú x#wö cw8wó...\n",
       "...     ...                                                ...\n",
       "2022      1  co#ê , t kjlê6 öúcê8x tó lkê öw#ótóy . Úol lkê...\n",
       "2023      0  ê2êó tx Ú#tlóêú céêj#c tc #êj88ú áolê , kê# öw...\n",
       "2024      1  j l#toöék wx j#l 6t#êáltwó w2ê# ój##jlt2ê , Úo...\n",
       "2025      0  ükjl cwo#ê6 öê wó lkê cjólj á8jocê * üjc lkjl ...\n",
       "2026      0  lw cjú lkjl lktc 2jét6 2êktá8ê tc 6wüó#tykl 6w...\n",
       "\n",
       "[2027 rows x 2 columns]"
      ]
     },
     "execution_count": 8,
     "metadata": {},
     "output_type": "execute_result"
    }
   ],
   "source": [
    "valid_df = pd.DataFrame(dev,columns=['label','text'])\n",
    "valid_df"
   ]
  },
  {
   "cell_type": "code",
   "execution_count": 9,
   "metadata": {},
   "outputs": [
    {
     "data": {
      "text/html": [
       "<div>\n",
       "<style scoped>\n",
       "    .dataframe tbody tr th:only-of-type {\n",
       "        vertical-align: middle;\n",
       "    }\n",
       "\n",
       "    .dataframe tbody tr th {\n",
       "        vertical-align: top;\n",
       "    }\n",
       "\n",
       "    .dataframe thead th {\n",
       "        text-align: right;\n",
       "    }\n",
       "</style>\n",
       "<table border=\"1\" class=\"dataframe\">\n",
       "  <thead>\n",
       "    <tr style=\"text-align: right;\">\n",
       "      <th></th>\n",
       "      <th>text</th>\n",
       "    </tr>\n",
       "  </thead>\n",
       "  <tbody>\n",
       "    <tr>\n",
       "      <th>0</th>\n",
       "      <td>j 6t6jáltá jó6 6o88 6wáoöêólj#ú y8w#txútóy cwx...</td>\n",
       "    </tr>\n",
       "    <tr>\n",
       "      <th>1</th>\n",
       "      <td>ówlktóy cltámc , #êj88ú , ê+áêél j 8tóyê#tóy á...</td>\n",
       "    </tr>\n",
       "    <tr>\n",
       "      <th>2</th>\n",
       "      <td>öo#ékú jó6 üt8cwó jáloj88ú öjmê j é#êllú yww6 ...</td>\n",
       "    </tr>\n",
       "    <tr>\n",
       "      <th>3</th>\n",
       "      <td>lkê xt8ö üjc é#w6oáê6 Úú vê##ú Ú#oámkêtöê# jó6...</td>\n",
       "    </tr>\n",
       "    <tr>\n",
       "      <th>4</th>\n",
       "      <td>tl zc cé8jck ütlkwol lkê vwmêc .</td>\n",
       "    </tr>\n",
       "    <tr>\n",
       "      <th>...</th>\n",
       "      <td>...</td>\n",
       "    </tr>\n",
       "    <tr>\n",
       "      <th>2023</th>\n",
       "      <td>tl zc lkê ê8êöêól wx áwó6êcáêóctwó , jc lkê xt...</td>\n",
       "    </tr>\n",
       "    <tr>\n",
       "      <th>2024</th>\n",
       "      <td>j lk#t88ê# ütlk jó ê6yê 77 ükták tc lw cjú lkj...</td>\n",
       "    </tr>\n",
       "    <tr>\n",
       "      <th>2025</th>\n",
       "      <td>j ltöê öjáktóê , j vwo#óêú Újám lw úwo# ákt86k...</td>\n",
       "    </tr>\n",
       "    <tr>\n",
       "      <th>2026</th>\n",
       "      <td>ótáê étêáê wx üw#m .</td>\n",
       "    </tr>\n",
       "    <tr>\n",
       "      <th>2027</th>\n",
       "      <td>jó oóx8tóáktóy , áwöé8ê+ éw#l#jtl wx j öw6ê#ó ...</td>\n",
       "    </tr>\n",
       "  </tbody>\n",
       "</table>\n",
       "<p>2028 rows × 1 columns</p>\n",
       "</div>"
      ],
      "text/plain": [
       "                                                   text\n",
       "0     j 6t6jáltá jó6 6o88 6wáoöêólj#ú y8w#txútóy cwx...\n",
       "1     ówlktóy cltámc , #êj88ú , ê+áêél j 8tóyê#tóy á...\n",
       "2     öo#ékú jó6 üt8cwó jáloj88ú öjmê j é#êllú yww6 ...\n",
       "3     lkê xt8ö üjc é#w6oáê6 Úú vê##ú Ú#oámkêtöê# jó6...\n",
       "4                      tl zc cé8jck ütlkwol lkê vwmêc .\n",
       "...                                                 ...\n",
       "2023  tl zc lkê ê8êöêól wx áwó6êcáêóctwó , jc lkê xt...\n",
       "2024  j lk#t88ê# ütlk jó ê6yê 77 ükták tc lw cjú lkj...\n",
       "2025  j ltöê öjáktóê , j vwo#óêú Újám lw úwo# ákt86k...\n",
       "2026                               ótáê étêáê wx üw#m .\n",
       "2027  jó oóx8tóáktóy , áwöé8ê+ éw#l#jtl wx j öw6ê#ó ...\n",
       "\n",
       "[2028 rows x 1 columns]"
      ]
     },
     "execution_count": 9,
     "metadata": {},
     "output_type": "execute_result"
    }
   ],
   "source": [
    "test_df = pd.DataFrame(test,columns=['text'])\n",
    "test_df"
   ]
  },
  {
   "cell_type": "code",
   "execution_count": 10,
   "metadata": {},
   "outputs": [],
   "source": [
    "tfidf_transformer = TfidfVectorizer(ngram_range=(1, 2))"
   ]
  },
  {
   "cell_type": "code",
   "execution_count": 11,
   "metadata": {},
   "outputs": [],
   "source": [
    "X_train = tfidf_transformer.fit_transform(train_df['text'])\n",
    "X_valid = tfidf_transformer.transform(valid_df['text'])\n",
    "X_test = tfidf_transformer.transform(test_df['text'])"
   ]
  },
  {
   "cell_type": "code",
   "execution_count": 12,
   "metadata": {},
   "outputs": [],
   "source": [
    "Y_train = train_df['label']\n",
    "Y_valid = valid_df['label']"
   ]
  },
  {
   "cell_type": "code",
   "execution_count": 13,
   "metadata": {},
   "outputs": [
    {
     "data": {
      "text/plain": [
       "(16220, 121252)"
      ]
     },
     "execution_count": 13,
     "metadata": {},
     "output_type": "execute_result"
    }
   ],
   "source": [
    "X_train.shape"
   ]
  },
  {
   "cell_type": "code",
   "execution_count": 14,
   "metadata": {},
   "outputs": [
    {
     "data": {
      "text/plain": [
       "(2027, 121252)"
      ]
     },
     "execution_count": 14,
     "metadata": {},
     "output_type": "execute_result"
    }
   ],
   "source": [
    "X_valid.shape"
   ]
  },
  {
   "cell_type": "code",
   "execution_count": 16,
   "metadata": {},
   "outputs": [
    {
     "name": "stdout",
     "output_type": "stream",
     "text": [
      "0.8830784410458806 9.545484566618342\n"
     ]
    }
   ],
   "source": [
    "#grid search for best parameter, extremely slow, don't excute this cell\n",
    "best_valid_score = 0\n",
    "best_c = None\n",
    "for C_value in list(np.logspace(-1, 1, 100)):\n",
    "    LR = LogisticRegression(C =C_value, penalty='l1', solver='saga',max_iter=10000)\n",
    "    LR.fit(X_train, Y_train)\n",
    "    train_score = LR.score(X_train, Y_train)\n",
    "    dev_score = LR.score(X_valid, Y_valid)\n",
    "    if dev_score> best_valid_score:\n",
    "        best_valid_score = dev_score\n",
    "        best_c = C_value\n",
    "print(best_valid_score,best_c)"
   ]
  },
  {
   "cell_type": "code",
   "execution_count": 15,
   "metadata": {},
   "outputs": [
    {
     "data": {
      "text/plain": [
       "(0.9842786683107275, 0.8835717809570794)"
      ]
     },
     "execution_count": 15,
     "metadata": {},
     "output_type": "execute_result"
    }
   ],
   "source": [
    "#LR with best C\n",
    "LR = LogisticRegression(C = 9.545,penalty='l1', solver='saga').fit(X_train, Y_train)\n",
    "train_score = LR.score(X_train, Y_train)\n",
    "dev_score = LR.score(X_valid, Y_valid)\n",
    "train_score,dev_score"
   ]
  },
  {
   "cell_type": "code",
   "execution_count": 16,
   "metadata": {},
   "outputs": [
    {
     "data": {
      "text/html": [
       "<div>\n",
       "<style scoped>\n",
       "    .dataframe tbody tr th:only-of-type {\n",
       "        vertical-align: middle;\n",
       "    }\n",
       "\n",
       "    .dataframe tbody tr th {\n",
       "        vertical-align: top;\n",
       "    }\n",
       "\n",
       "    .dataframe thead th {\n",
       "        text-align: right;\n",
       "    }\n",
       "</style>\n",
       "<table border=\"1\" class=\"dataframe\">\n",
       "  <thead>\n",
       "    <tr style=\"text-align: right;\">\n",
       "      <th></th>\n",
       "      <th>label</th>\n",
       "      <th>text</th>\n",
       "    </tr>\n",
       "  </thead>\n",
       "  <tbody>\n",
       "    <tr>\n",
       "      <th>0</th>\n",
       "      <td>0</td>\n",
       "      <td>lkêcê yoúc cêêö y#êjl lw mówám Újám j Úêê# ütl...</td>\n",
       "    </tr>\n",
       "    <tr>\n",
       "      <th>1</th>\n",
       "      <td>0</td>\n",
       "      <td>6êcétlê jolêot8 zc éê#xw#öjóáê , tl zc j #jlkê...</td>\n",
       "    </tr>\n",
       "    <tr>\n",
       "      <th>2</th>\n",
       "      <td>0</td>\n",
       "      <td>tx lktc kw8t6jú öw2tê tc coééwcê6 lw Úê j ytxl...</td>\n",
       "    </tr>\n",
       "    <tr>\n",
       "      <th>3</th>\n",
       "      <td>1</td>\n",
       "      <td>vocl ükêó úwo lktóm lkjl ê2ê#ú éwcctÚ8ê jóy8ê ...</td>\n",
       "    </tr>\n",
       "    <tr>\n",
       "      <th>4</th>\n",
       "      <td>1</td>\n",
       "      <td>yt2ê á#ê6tl lw ê2ê#úwóê x#wö #wÚtócwó 6wüó lw ...</td>\n",
       "    </tr>\n",
       "    <tr>\n",
       "      <th>...</th>\n",
       "      <td>...</td>\n",
       "      <td>...</td>\n",
       "    </tr>\n",
       "    <tr>\n",
       "      <th>2022</th>\n",
       "      <td>1</td>\n",
       "      <td>co#ê , t kjlê6 öúcê8x tó lkê öw#ótóy . Úol lkê...</td>\n",
       "    </tr>\n",
       "    <tr>\n",
       "      <th>2023</th>\n",
       "      <td>0</td>\n",
       "      <td>ê2êó tx Ú#tlóêú céêj#c tc #êj88ú áolê , kê# öw...</td>\n",
       "    </tr>\n",
       "    <tr>\n",
       "      <th>2024</th>\n",
       "      <td>1</td>\n",
       "      <td>j l#toöék wx j#l 6t#êáltwó w2ê# ój##jlt2ê , Úo...</td>\n",
       "    </tr>\n",
       "    <tr>\n",
       "      <th>2025</th>\n",
       "      <td>0</td>\n",
       "      <td>ükjl cwo#ê6 öê wó lkê cjólj á8jocê * üjc lkjl ...</td>\n",
       "    </tr>\n",
       "    <tr>\n",
       "      <th>2026</th>\n",
       "      <td>0</td>\n",
       "      <td>lw cjú lkjl lktc 2jét6 2êktá8ê tc 6wüó#tykl 6w...</td>\n",
       "    </tr>\n",
       "  </tbody>\n",
       "</table>\n",
       "<p>18247 rows × 2 columns</p>\n",
       "</div>"
      ],
      "text/plain": [
       "      label                                               text\n",
       "0         0  lkêcê yoúc cêêö y#êjl lw mówám Újám j Úêê# ütl...\n",
       "1         0  6êcétlê jolêot8 zc éê#xw#öjóáê , tl zc j #jlkê...\n",
       "2         0  tx lktc kw8t6jú öw2tê tc coééwcê6 lw Úê j ytxl...\n",
       "3         1  vocl ükêó úwo lktóm lkjl ê2ê#ú éwcctÚ8ê jóy8ê ...\n",
       "4         1  yt2ê á#ê6tl lw ê2ê#úwóê x#wö #wÚtócwó 6wüó lw ...\n",
       "...     ...                                                ...\n",
       "2022      1  co#ê , t kjlê6 öúcê8x tó lkê öw#ótóy . Úol lkê...\n",
       "2023      0  ê2êó tx Ú#tlóêú céêj#c tc #êj88ú áolê , kê# öw...\n",
       "2024      1  j l#toöék wx j#l 6t#êáltwó w2ê# ój##jlt2ê , Úo...\n",
       "2025      0  ükjl cwo#ê6 öê wó lkê cjólj á8jocê * üjc lkjl ...\n",
       "2026      0  lw cjú lkjl lktc 2jét6 2êktá8ê tc 6wüó#tykl 6w...\n",
       "\n",
       "[18247 rows x 2 columns]"
      ]
     },
     "execution_count": 16,
     "metadata": {},
     "output_type": "execute_result"
    }
   ],
   "source": [
    "#combine train & dev for final predict\n",
    "train_valid_df = pd.concat([train_df,valid_df],axis = 0)\n",
    "train_valid_df"
   ]
  },
  {
   "cell_type": "code",
   "execution_count": 17,
   "metadata": {},
   "outputs": [
    {
     "data": {
      "text/plain": [
       "(18247, 125972)"
      ]
     },
     "execution_count": 17,
     "metadata": {},
     "output_type": "execute_result"
    }
   ],
   "source": [
    "X_train_valid = tfidf_transformer.fit_transform(train_valid_df['text'])\n",
    "Y_train_valid = train_valid_df['label']\n",
    "X_test = tfidf_transformer.transform(test_df['text'])\n",
    "X_train_valid.shape"
   ]
  },
  {
   "cell_type": "code",
   "execution_count": 18,
   "metadata": {},
   "outputs": [
    {
     "data": {
      "text/plain": [
       "0.9843809941360223"
      ]
     },
     "execution_count": 18,
     "metadata": {},
     "output_type": "execute_result"
    }
   ],
   "source": [
    "#LR with best C\n",
    "LR = LogisticRegression(C = 9.545,penalty='l1', solver='saga').fit(X_train_valid, Y_train_valid)\n",
    "train_score = LR.score(X_train_valid, Y_train_valid)\n",
    "train_score"
   ]
  },
  {
   "cell_type": "code",
   "execution_count": 19,
   "metadata": {},
   "outputs": [
    {
     "data": {
      "text/plain": [
       "2028"
      ]
     },
     "execution_count": 19,
     "metadata": {},
     "output_type": "execute_result"
    }
   ],
   "source": [
    "# Eventually, results need to be a list of 2028 0 or 1's\n",
    "test_preds = LR.predict(X_test)\n",
    "results = list(test_preds)\n",
    "len(results)"
   ]
  },
  {
   "cell_type": "markdown",
   "metadata": {},
   "source": [
    "### Output Prediction Result File"
   ]
  },
  {
   "cell_type": "markdown",
   "metadata": {},
   "source": [
    "You will need to submit a prediction result file. It should have 2028 lines, every line should be either 0 or 1, which is your model's prediction on the respective test set instance."
   ]
  },
  {
   "cell_type": "code",
   "execution_count": 20,
   "metadata": {},
   "outputs": [],
   "source": [
    "# suppose you had your model's predictions on the 2028 test cases read from test_enc_unlabeled.tsv, and \n",
    "#those results are in the list called 'results'\n",
    "assert (len(results) == 2028)"
   ]
  },
  {
   "cell_type": "code",
   "execution_count": 21,
   "metadata": {},
   "outputs": [],
   "source": [
    "# make sure the results are not float numbers, but intergers 0 and 1\n",
    "results = [int(x) for x in results]"
   ]
  },
  {
   "cell_type": "code",
   "execution_count": 22,
   "metadata": {},
   "outputs": [],
   "source": [
    "# write your prediction results to 'upload_predictions.txt' and upload that later\n",
    "with open('upload_predictions.txt', 'w', encoding = 'utf-8') as fp:\n",
    "    for x in results:\n",
    "        fp.write(str(x) + '\\n')"
   ]
  },
  {
   "cell_type": "code",
   "execution_count": null,
   "metadata": {},
   "outputs": [],
   "source": []
  }
 ],
 "metadata": {
  "kernelspec": {
   "display_name": "Python 3",
   "language": "python",
   "name": "python3"
  },
  "language_info": {
   "codemirror_mode": {
    "name": "ipython",
    "version": 3
   },
   "file_extension": ".py",
   "mimetype": "text/x-python",
   "name": "python",
   "nbconvert_exporter": "python",
   "pygments_lexer": "ipython3",
   "version": "3.7.6"
  }
 },
 "nbformat": 4,
 "nbformat_minor": 4
}
